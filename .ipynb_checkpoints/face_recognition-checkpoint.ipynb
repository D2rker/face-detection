{
 "cells": [
  {
   "cell_type": "markdown",
   "id": "a8f578fe-0fe0-4e7d-9169-bf30b2b9ea84",
   "metadata": {},
   "source": [
    "# GENERATE DATASET"
   ]
  },
  {
   "cell_type": "code",
   "execution_count": 1,
   "id": "17b80cc6-c867-4f34-ace9-a85bbd23da56",
   "metadata": {},
   "outputs": [
    {
     "ename": "error",
     "evalue": "OpenCV(4.10.0) D:\\a\\opencv-python\\opencv-python\\opencv\\modules\\objdetect\\src\\cascadedetect.cpp:1689: error: (-215:Assertion failed) !empty() in function 'cv::CascadeClassifier::detectMultiScale'\n",
     "output_type": "error",
     "traceback": [
      "\u001b[1;31m---------------------------------------------------------------------------\u001b[0m",
      "\u001b[1;31merror\u001b[0m                                     Traceback (most recent call last)",
      "Cell \u001b[1;32mIn[1], line 61\u001b[0m\n\u001b[0;32m     57\u001b[0m     \u001b[38;5;28mprint\u001b[39m(\u001b[38;5;124m\"\u001b[39m\u001b[38;5;124mCollecting samples is completed....\u001b[39m\u001b[38;5;124m\"\u001b[39m)\n\u001b[0;32m     60\u001b[0m \u001b[38;5;66;03m# Call the function to start collecting face data\u001b[39;00m\n\u001b[1;32m---> 61\u001b[0m \u001b[43mgenerate_dataset\u001b[49m\u001b[43m(\u001b[49m\u001b[43m)\u001b[49m\n",
      "Cell \u001b[1;32mIn[1], line 36\u001b[0m, in \u001b[0;36mgenerate_dataset\u001b[1;34m()\u001b[0m\n\u001b[0;32m     33\u001b[0m     \u001b[38;5;28;01mbreak\u001b[39;00m\n\u001b[0;32m     35\u001b[0m \u001b[38;5;66;03m# If a face is detected and cropped\u001b[39;00m\n\u001b[1;32m---> 36\u001b[0m cropped_face \u001b[38;5;241m=\u001b[39m \u001b[43mface_cropped\u001b[49m\u001b[43m(\u001b[49m\u001b[43mframe\u001b[49m\u001b[43m)\u001b[49m\n\u001b[0;32m     37\u001b[0m \u001b[38;5;28;01mif\u001b[39;00m cropped_face \u001b[38;5;129;01mis\u001b[39;00m \u001b[38;5;129;01mnot\u001b[39;00m \u001b[38;5;28;01mNone\u001b[39;00m:\n\u001b[0;32m     38\u001b[0m     img_id \u001b[38;5;241m+\u001b[39m\u001b[38;5;241m=\u001b[39m \u001b[38;5;241m1\u001b[39m\n",
      "Cell \u001b[1;32mIn[1], line 12\u001b[0m, in \u001b[0;36mgenerate_dataset.<locals>.face_cropped\u001b[1;34m(img)\u001b[0m\n\u001b[0;32m     10\u001b[0m gray \u001b[38;5;241m=\u001b[39m cv2\u001b[38;5;241m.\u001b[39mcvtColor(img, cv2\u001b[38;5;241m.\u001b[39mCOLOR_BGR2GRAY)\n\u001b[0;32m     11\u001b[0m \u001b[38;5;66;03m# Detect faces in the image\u001b[39;00m\n\u001b[1;32m---> 12\u001b[0m faces \u001b[38;5;241m=\u001b[39m \u001b[43mface_classifier\u001b[49m\u001b[38;5;241;43m.\u001b[39;49m\u001b[43mdetectMultiScale\u001b[49m\u001b[43m(\u001b[49m\u001b[43mgray\u001b[49m\u001b[43m,\u001b[49m\u001b[43m \u001b[49m\u001b[38;5;241;43m1.3\u001b[39;49m\u001b[43m,\u001b[49m\u001b[43m \u001b[49m\u001b[38;5;241;43m5\u001b[39;49m\u001b[43m)\u001b[49m\n\u001b[0;32m     14\u001b[0m \u001b[38;5;66;03m# If no faces are detected, return None\u001b[39;00m\n\u001b[0;32m     15\u001b[0m \u001b[38;5;28;01mif\u001b[39;00m \u001b[38;5;28mlen\u001b[39m(faces) \u001b[38;5;241m==\u001b[39m \u001b[38;5;241m0\u001b[39m:\n",
      "\u001b[1;31merror\u001b[0m: OpenCV(4.10.0) D:\\a\\opencv-python\\opencv-python\\opencv\\modules\\objdetect\\src\\cascadedetect.cpp:1689: error: (-215:Assertion failed) !empty() in function 'cv::CascadeClassifier::detectMultiScale'\n"
     ]
    }
   ],
   "source": [
    "import cv2\n",
    "\n",
    "def generate_dataset():\n",
    "    # Load the pre-trained face detector from OpenCV\n",
    "    face_classifier = cv2.CascadeClassifier(\"haarcascade_frontalface_default.xml\")\n",
    "\n",
    "    # Function to detect and crop the face from an image\n",
    "    def face_cropped(img):\n",
    "        # Convert the image to grayscale\n",
    "        gray = cv2.cvtColor(img, cv2.COLOR_BGR2GRAY)\n",
    "        # Detect faces in the image\n",
    "        faces = face_classifier.detectMultiScale(gray, 1.3, 5)\n",
    "\n",
    "        # If no faces are detected, return None\n",
    "        if len(faces) == 0:\n",
    "            return None\n",
    "        # Crop the first detected face\n",
    "        for (x, y, w, h) in faces:\n",
    "            cropped_face = img[y:y + h, x:x + w]\n",
    "        return cropped_face\n",
    "\n",
    "    # Initialize the webcam (0 for built-in webcam, 1 for external)\n",
    "    cap = cv2.VideoCapture(0)\n",
    "    id = 1  # Assign an ID for the user\n",
    "    img_id = 0  # Image counter\n",
    "\n",
    "    while True:\n",
    "        # Capture frame-by-frame\n",
    "        ret, frame = cap.read()\n",
    "        # Check if the frame was captured successfully\n",
    "        if not ret:\n",
    "            print(\"Failed to capture image. Exiting...\")\n",
    "            break\n",
    "\n",
    "        # If a face is detected and cropped\n",
    "        cropped_face = face_cropped(frame)\n",
    "        if cropped_face is not None:\n",
    "            img_id += 1\n",
    "            # Resize the cropped face to 200x200 pixels\n",
    "            face = cv2.resize(cropped_face, (200, 200))\n",
    "            # Convert the face to grayscale\n",
    "            face = cv2.cvtColor(face, cv2.COLOR_BGR2GRAY)\n",
    "            # Save the image to the dataset folder\n",
    "            file_name_path = \"data/user.\" + str(id) + \".\" + str(img_id) + \".jpg\"\n",
    "            cv2.imwrite(file_name_path, face)\n",
    "            # Display the image with the image ID\n",
    "            cv2.putText(face, str(img_id), (50, 50), cv2.FONT_HERSHEY_COMPLEX, 1, (0, 255, 0), 2)\n",
    "            cv2.imshow(\"Cropped face\", face)\n",
    "\n",
    "        # Break the loop when 'Enter' (ASCII 13) is pressed or after 200 images\n",
    "        if cv2.waitKey(1) == 13 or img_id == 200:\n",
    "            break\n",
    "\n",
    "    # Release the webcam and close all OpenCV windows\n",
    "    cap.release()\n",
    "    cv2.destroyAllWindows()\n",
    "    print(\"Collecting samples is completed....\")\n",
    "\n",
    "\n",
    "# Call the function to start collecting face data\n",
    "generate_dataset()\n"
   ]
  },
  {
   "cell_type": "code",
   "execution_count": null,
   "id": "6bf3212a-d36f-4db2-b278-4670300c95d8",
   "metadata": {},
   "outputs": [],
   "source": []
  }
 ],
 "metadata": {
  "kernelspec": {
   "display_name": "Python 3 (ipykernel)",
   "language": "python",
   "name": "python3"
  },
  "language_info": {
   "codemirror_mode": {
    "name": "ipython",
    "version": 3
   },
   "file_extension": ".py",
   "mimetype": "text/x-python",
   "name": "python",
   "nbconvert_exporter": "python",
   "pygments_lexer": "ipython3",
   "version": "3.12.6"
  }
 },
 "nbformat": 4,
 "nbformat_minor": 5
}
